{
 "cells": [
  {
   "cell_type": "code",
   "execution_count": 6,
   "metadata": {
    "collapsed": true
   },
   "outputs": [],
   "source": [
    "import numpy as np\n",
    "from sklearn.metrics.pairwise import cosine_similarity"
   ]
  },
  {
   "cell_type": "code",
   "execution_count": 7,
   "metadata": {},
   "outputs": [],
   "source": [
    "data = np.load('../trump_data/result/embeddings.npy')"
   ]
  },
  {
   "cell_type": "code",
   "execution_count": 8,
   "metadata": {},
   "outputs": [
    {
     "name": "stdout",
     "output_type": "stream",
     "text": [
      "[[-1.31020192  1.53938673 -0.4380213  ...,  0.41804537 -0.53657954\n",
      "  -1.76638569]\n",
      " [ 0.83447515  0.8590501   0.47220084 ..., -2.21116542 -3.10996136\n",
      "  -2.50365609]\n",
      " [-0.57314784  0.92077755  0.30593539 ...,  0.51478029  2.29289775\n",
      "   0.15137192]\n",
      " ..., \n",
      " [ 0.91668481 -0.64308651 -0.93812879 ...,  0.27896164  0.57514678\n",
      "  -0.24110621]\n",
      " [ 0.83165859 -0.36332993 -1.78593227 ..., -0.3663818  -1.73756727\n",
      "  -1.45313646]\n",
      " [ 1.09951791  0.47407573 -0.76599273 ..., -0.94163007 -1.3053672\n",
      "  -1.71524473]]\n"
     ]
    }
   ],
   "source": [
    "print data"
   ]
  },
  {
   "cell_type": "code",
   "execution_count": 9,
   "metadata": {},
   "outputs": [
    {
     "name": "stdout",
     "output_type": "stream",
     "text": [
      "pairwise dense output:\n",
      " [[ 1.          0.35480465  0.23459045 ...,  0.16318268  0.10507758\n",
      "   0.04932506]\n",
      " [ 0.35480465  1.          0.00212709 ...,  0.08495049  0.31350682\n",
      "   0.33810236]\n",
      " [ 0.23459045  0.00212709  1.         ...,  0.25197858  0.16580401\n",
      "   0.1001898 ]\n",
      " ..., \n",
      " [ 0.16318268  0.08495049  0.25197858 ...,  1.          0.35490299\n",
      "   0.45177229]\n",
      " [ 0.10507758  0.31350682  0.16580401 ...,  0.35490299  1.          0.81120141]\n",
      " [ 0.04932506  0.33810236  0.1001898  ...,  0.45177229  0.81120141  1.        ]]\n",
      "\n"
     ]
    }
   ],
   "source": [
    "# This will provide a matrix of pairwise relationships to the three \n",
    "# documents. \n",
    "similarities = cosine_similarity(data)\n",
    "print('pairwise dense output:\\n {}\\n'.format(similarities))"
   ]
  },
  {
   "cell_type": "code",
   "execution_count": 10,
   "metadata": {},
   "outputs": [
    {
     "name": "stdout",
     "output_type": "stream",
     "text": [
      "single comparison output:\n",
      " [[ 1.          0.35480465  0.23459045 ...,  0.16318268  0.10507758\n",
      "   0.04932506]]\n",
      "\n"
     ]
    }
   ],
   "source": [
    "# Now we just compare the first item data[0] to the rest of the matrix\n",
    "single_item = data[0].reshape(1,500)\n",
    "more_similarities = cosine_similarity(single_item, data, dense_output=False)\n",
    "print('single comparison output:\\n {}\\n'.format(more_similarities))"
   ]
  },
  {
   "cell_type": "code",
   "execution_count": 11,
   "metadata": {},
   "outputs": [
    {
     "name": "stdout",
     "output_type": "stream",
     "text": [
      "[   0 8465  189 9631]\n"
     ]
    }
   ],
   "source": [
    "# From https://stackoverflow.com/questions/12118720/python-tf-idf-cosine-to-find-document-similarity\n",
    "#  To find the top 5 related documents, we can use argsort and some negative array \n",
    "#  slicing (most related documents have highest cosine similarity values, \n",
    "#  hence at the end of the sorted indices array):\n",
    "# (also using the [0]th element because it's a one-row matrix now)\n",
    "related_docs_indices = more_similarities[0].argsort()[:-5:-1]\n",
    "print related_docs_indices"
   ]
  },
  {
   "cell_type": "code",
   "execution_count": 12,
   "metadata": {
    "collapsed": true
   },
   "outputs": [],
   "source": [
    "# the first item [0] is the most similar -- because it's the one we're using for comparison\n"
   ]
  },
  {
   "cell_type": "code",
   "execution_count": 13,
   "metadata": {},
   "outputs": [
    {
     "name": "stdout",
     "output_type": "stream",
     "text": [
      "[ 1.          0.58239247  0.58227277  0.57593564]\n"
     ]
    }
   ],
   "source": [
    "# and here we print out the actual values\n",
    "print more_similarities[0, related_docs_indices]"
   ]
  },
  {
   "cell_type": "markdown",
   "metadata": {
    "collapsed": true
   },
   "source": [
    "Whoa. So the tweet in the first [0] position is: \n",
    "a great honor to host pm paolo gentiloni of italy at the white house this afternoon ! - joint press conference\n",
    "\n",
    "And the tweet in the [3] position is:\n",
    "a great honor to host the @user champion new england @user at the white house today . congratulations !… !url\n",
    "\n",
    "And the tweet in the [319] position is:\n",
    "an honor having the national sheriffs ' assoc . join me at the @user . incredible men &amp; women who protect &amp; serv … !url\t\n",
    "\n"
   ]
  }
 ],
 "metadata": {
  "kernelspec": {
   "display_name": "Python 2",
   "language": "python",
   "name": "python2"
  },
  "language_info": {
   "codemirror_mode": {
    "name": "ipython",
    "version": 2
   },
   "file_extension": ".py",
   "mimetype": "text/x-python",
   "name": "python",
   "nbconvert_exporter": "python",
   "pygments_lexer": "ipython2",
   "version": "2.7.13"
  }
 },
 "nbformat": 4,
 "nbformat_minor": 2
}
